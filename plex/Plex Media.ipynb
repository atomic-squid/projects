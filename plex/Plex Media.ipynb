{
 "cells": [
  {
   "cell_type": "markdown",
   "metadata": {},
   "source": [
    "# URLs\n",
    "|section|URL|\n",
    "|-|-|\n",
    "|Server Features|http://`<server:port>`/?X-Plex-Token=`<token>`|\n",
    "|Movies|http://`<server:port>`/library/sections/`<id>`/all?X-Plex-Token=`<token>`|\n",
    "|TV Episodes|http://`<server:port>`/library/sections/`<id>`/allLeaves?X-Plex-Token=`<token>`|"
   ]
  },
  {
   "cell_type": "code",
   "execution_count": 9,
   "metadata": {},
   "outputs": [],
   "source": [
    "import pandas as pd\n",
    "from os import getenv\n",
    "from dotenv import load_dotenv\n",
    "\n",
    "# load from .env file\n",
    "load_dotenv()\n",
    "\n",
    "site_url = 'http://nas.lan:32400'\n",
    "token = getenv('PLEX_TOKEN')\n",
    "movie_index = 3\n",
    "tv_index = 6"
   ]
  },
  {
   "cell_type": "markdown",
   "metadata": {},
   "source": [
    "## Grab Movie Data"
   ]
  },
  {
   "cell_type": "code",
   "execution_count": 10,
   "metadata": {},
   "outputs": [],
   "source": [
    "movies_collection = pd.read_xml(\n",
    "    path_or_buffer = f'{site_url}/library/sections/{movie_index}/all?X-Plex-Token={token}',\n",
    "    parser = 'lxml',\n",
    "    stylesheet='movie_transform.xsl',\n",
    "    parse_dates=['release']\n",
    ")"
   ]
  },
  {
   "cell_type": "markdown",
   "metadata": {},
   "source": [
    "Seperate folders from pathnames, then remove full_path"
   ]
  },
  {
   "cell_type": "code",
   "execution_count": 11,
   "metadata": {},
   "outputs": [],
   "source": [
    "movies_collection[['folder', 'file']] = movies_collection['full_path'].str.extract('(.*)\\/([^\\/]*)$', expand=True)\n",
    "movies_collection = movies_collection.drop(columns=['full_path'])"
   ]
  },
  {
   "cell_type": "markdown",
   "metadata": {},
   "source": [
    "## Grab TV data"
   ]
  },
  {
   "cell_type": "code",
   "execution_count": 12,
   "metadata": {},
   "outputs": [],
   "source": [
    "tv_collection = pd.read_xml(\n",
    "    path_or_buffer = f'{site_url}/library/sections/{tv_index}/allLeaves?X-Plex-Token={token}',\n",
    "    parser = 'lxml',\n",
    "    stylesheet='tv_transform.xsl',\n",
    "    parse_dates=['release']\n",
    ")"
   ]
  },
  {
   "cell_type": "markdown",
   "metadata": {},
   "source": [
    "Seperate folders from pathnames, then remove full_path"
   ]
  },
  {
   "cell_type": "code",
   "execution_count": 13,
   "metadata": {},
   "outputs": [],
   "source": [
    "tv_collection[['folder', 'file']] = tv_collection['full_path'].str.extract('(.*)\\/([^\\/]*)$', expand=True)\n",
    "tv_collection = tv_collection.drop(columns=['full_path'])"
   ]
  },
  {
   "cell_type": "markdown",
   "metadata": {},
   "source": [
    "### Output data"
   ]
  },
  {
   "cell_type": "code",
   "execution_count": 14,
   "metadata": {},
   "outputs": [],
   "source": [
    "\n",
    "with pd.ExcelWriter(\"data.xlsx\") as datafile:\n",
    "    movies_collection.to_excel(datafile, sheet_name='Movies', index=None)\n",
    "    tv_collection.to_excel(datafile, sheet_name='TV Shows', index=None)\n",
    "\n",
    "movies_collection.to_csv('movie_data.csv', index=None)\n",
    "tv_collection.to_csv('tv_data.csv', index=None)"
   ]
  }
 ],
 "metadata": {
  "kernelspec": {
   "display_name": ".venv",
   "language": "python",
   "name": "python3"
  },
  "language_info": {
   "codemirror_mode": {
    "name": "ipython",
    "version": 3
   },
   "file_extension": ".py",
   "mimetype": "text/x-python",
   "name": "python",
   "nbconvert_exporter": "python",
   "pygments_lexer": "ipython3",
   "version": "3.11.9"
  }
 },
 "nbformat": 4,
 "nbformat_minor": 2
}
